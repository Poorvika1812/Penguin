{
  "metadata": {
    "kernelspec": {
      "name": "python",
      "display_name": "Pyolite",
      "language": "python"
    },
    "language_info": {
      "codemirror_mode": {
        "name": "python",
        "version": 3
      },
      "file_extension": ".py",
      "mimetype": "text/x-python",
      "name": "python",
      "nbconvert_exporter": "python",
      "pygments_lexer": "ipython3",
      "version": "3.8"
    }
  },
  "nbformat_minor": 4,
  "nbformat": 4,
  "cells": [
    {
      "cell_type": "markdown",
      "source": "<center>\n    <img src=\"https://cf-courses-data.s3.us.cloud-object-storage.appdomain.cloud/IBMDeveloperSkillsNetwork-DS0105EN-SkillsNetwork/labs/Module2/images/SN_web_lightmode.png\" width=\"300\" alt=\"cognitiveclass.ai logo\">\n</center>\n",
      "metadata": {}
    },
    {
      "cell_type": "markdown",
      "source": "#### Add your code below following the instructions given in the course\n",
      "metadata": {}
    },
    {
      "cell_type": "markdown",
      "source": "# My Jupyter Notebook on IBM Watson Studio",
      "metadata": {}
    },
    {
      "cell_type": "markdown",
      "source": "**Poorvika Agarwal** \n<Br>\nI am a student currently.",
      "metadata": {}
    },
    {
      "cell_type": "markdown",
      "source": "<I>i have always loved math since i was in school and data science gives me the oppurtunity to play with numbers. i am from the health science background and biostatistics plays a very important role in clinical trial analysis.</I> ",
      "metadata": {}
    },
    {
      "cell_type": "markdown",
      "source": "<H3> The following is a simple code for multiplication </H3>",
      "metadata": {}
    },
    {
      "cell_type": "code",
      "source": "6*5",
      "metadata": {
        "trusted": true
      },
      "execution_count": 4,
      "outputs": [
        {
          "execution_count": 4,
          "output_type": "execute_result",
          "data": {
            "text/plain": "30"
          },
          "metadata": {}
        }
      ]
    },
    {
      "cell_type": "markdown",
      "source": "<H4>My hobbies are as follows: </H4>\n<ul><li>Cooking\n    <li> painting\n    <li> drawing\n    <li> reading </ul>\n<Br>\n <Br>\n     <H4> There are four types of blood groups </H4>\n        <ol><li> A\n            <li> B\n             <li> AB\n            <li> O </ol>  <br> <br> <br>\n<table>\n    <tr>\n        <th> Sl. no </th>\n        <th> Name </th>\n        <th> blood group</th>\n    </tr>\n    <tr>\n        <td> 1</td>\n        <td> Riya </td>\n        <td> A +ve </td>\n    </tr>\n     </table>\n\n        \n Thank You <hr> ",
      "metadata": {}
    },
    {
      "cell_type": "code",
      "source": "",
      "metadata": {},
      "execution_count": null,
      "outputs": []
    }
  ]
}