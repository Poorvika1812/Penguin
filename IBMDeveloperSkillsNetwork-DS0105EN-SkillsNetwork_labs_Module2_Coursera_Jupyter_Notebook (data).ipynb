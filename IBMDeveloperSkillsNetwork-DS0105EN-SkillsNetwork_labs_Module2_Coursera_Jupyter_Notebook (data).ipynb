{
  "metadata": {
    "kernelspec": {
      "name": "python",
      "display_name": "Pyolite",
      "language": "python"
    },
    "language_info": {
      "codemirror_mode": {
        "name": "python",
        "version": 3
      },
      "file_extension": ".py",
      "mimetype": "text/x-python",
      "name": "python",
      "nbconvert_exporter": "python",
      "pygments_lexer": "ipython3",
      "version": "3.8"
    }
  },
  "nbformat_minor": 4,
  "nbformat": 4,
  "cells": [
    {
      "cell_type": "markdown",
      "source": "<center>\n    <img src=\"https://cf-courses-data.s3.us.cloud-object-storage.appdomain.cloud/IBMDeveloperSkillsNetwork-DS0105EN-SkillsNetwork/labs/Module2/images/SN_web_lightmode.png\" width=\"300\" alt=\"cognitiveclass.ai logo\">\n</center>\n",
      "metadata": {}
    },
    {
      "cell_type": "markdown",
      "source": "#### Add your code below following the instructions given in the course\n",
      "metadata": {}
    },
    {
      "cell_type": "markdown",
      "source": "<h1> Data Science Tools and Ecosystem </h1>",
      "metadata": {}
    },
    {
      "cell_type": "markdown",
      "source": "This notebook is on data science tools and ecosystems. ",
      "metadata": {}
    },
    {
      "cell_type": "markdown",
      "source": "<H3> Data science languages are as follows </h3>\n<ol> <li> python\n<li> R\n<li> SQL\n<li> java\n<li> C++\n<li> scala </ol>",
      "metadata": {}
    },
    {
      "cell_type": "markdown",
      "source": "<H3> Some data science libraries are as follows </H3>\n<ol><li> python pandas\n<li> tensorflow\n<li> Pytorch \n<li> matplotlib\n<li> numpy\n<li> keras </ol>",
      "metadata": {}
    },
    {
      "cell_type": "markdown",
      "source": "<table>\n    <tr>\n        <th> Sl. no </th>\n        <th> Data science tool </th>\n    </tr>\n    <tr>\n        <td> 1</td>\n        <td> Jupyter notebook </td>        \n    </tr>\n    <tr>\n        <td> 2</td>\n        <td> Rstudio </td>        \n    </tr>\n    <tr>\n        <td> 3</td>\n        <td> Github </td>        \n    </tr>\n     </table>",
      "metadata": {}
    },
    {
      "cell_type": "markdown",
      "source": "<H3> A few examples of evaluating arithmetic expressions in Python </h3>",
      "metadata": {}
    },
    {
      "cell_type": "markdown",
      "source": "<H4> The following is a simple code for multiplication </H4>",
      "metadata": {}
    },
    {
      "cell_type": "code",
      "source": "5*21",
      "metadata": {
        "trusted": true
      },
      "execution_count": 6,
      "outputs": [
        {
          "execution_count": 6,
          "output_type": "execute_result",
          "data": {
            "text/plain": "105"
          },
          "metadata": {}
        }
      ]
    },
    {
      "cell_type": "markdown",
      "source": "<H4> The following is a simple code for addition </H4>",
      "metadata": {}
    },
    {
      "cell_type": "code",
      "source": "101+333",
      "metadata": {
        "trusted": true
      },
      "execution_count": 8,
      "outputs": [
        {
          "execution_count": 8,
          "output_type": "execute_result",
          "data": {
            "text/plain": "434"
          },
          "metadata": {}
        }
      ]
    },
    {
      "cell_type": "markdown",
      "source": "<h4> This a simple arithmetic expression to mutiply then add integers </h4>",
      "metadata": {}
    },
    {
      "cell_type": "code",
      "source": "(21*33)+ 631",
      "metadata": {
        "trusted": true
      },
      "execution_count": 15,
      "outputs": [
        {
          "execution_count": 15,
          "output_type": "execute_result",
          "data": {
            "text/plain": "1324"
          },
          "metadata": {}
        }
      ]
    },
    {
      "cell_type": "markdown",
      "source": "<H3> The following is to convert minutes to hours </H3>",
      "metadata": {}
    },
    {
      "cell_type": "code",
      "source": "Minutes = 128\nprint( Minutes//60, \"hrs\", Minutes% 60,\"mins\")",
      "metadata": {
        "trusted": true
      },
      "execution_count": 11,
      "outputs": [
        {
          "name": "stdout",
          "text": "2 hrs 8 mins\n",
          "output_type": "stream"
        }
      ]
    },
    {
      "cell_type": "code",
      "source": "Minutes = 345\nprint( Minutes//60, \"hrs\", Minutes% 60,\"mins\")",
      "metadata": {
        "trusted": true
      },
      "execution_count": 12,
      "outputs": [
        {
          "name": "stdout",
          "text": "5 hrs 45 mins\n",
          "output_type": "stream"
        }
      ]
    },
    {
      "cell_type": "markdown",
      "source": "<H3>Objectives </h3>\n<ul> <li> the objective of this course is to understand data science tools and data science languages\n<li> to be able to use jupyter notebook efficiently\n<li> to be able to use python \n</ul>",
      "metadata": {}
    },
    {
      "cell_type": "markdown",
      "source": "<h2> Author Name </h2> <b> Poorvika Agarwal </b>",
      "metadata": {}
    }
  ]
}